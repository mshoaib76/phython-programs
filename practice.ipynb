{
 "cells": [
  {
   "cell_type": "code",
   "execution_count": 1,
   "metadata": {},
   "outputs": [
    {
     "name": "stdout",
     "output_type": "stream",
     "text": [
      "                  Breed  Age (Years)  Weight (kg)          Color  Gender\n",
      "0          Russian Blue           19            7  Tortoiseshell  Female\n",
      "1      Norwegian Forest           19            9  Tortoiseshell  Female\n",
      "2             Chartreux            3            3          Brown  Female\n",
      "3               Persian           13            6          Sable  Female\n",
      "4               Ragdoll           10            8          Tabby    Male\n",
      "..                  ...          ...          ...            ...     ...\n",
      "995   British Shorthair           19            5           Gray  Female\n",
      "996   British Shorthair           11            2        Bicolor  Female\n",
      "997            Savannah           12            5        Bicolor  Female\n",
      "998  American Shorthair            8            3  Tortoiseshell  Female\n",
      "999           Chartreux           11            4          Sable  Female\n",
      "\n",
      "[1000 rows x 5 columns]\n"
     ]
    }
   ],
   "source": [
    "import pandas as pd\n",
    "import numpy as np\n",
    "df=pd.read_csv('cats_dataset.csv')\n",
    "print(df)"
   ]
  },
  {
   "cell_type": "code",
   "execution_count": 2,
   "metadata": {},
   "outputs": [
    {
     "name": "stdout",
     "output_type": "stream",
     "text": [
      "                  Breed  Age (Years)  Weight (kg)          Color  Gender\n",
      "0          Russian Blue           19            7  Tortoiseshell  Female\n",
      "1      Norwegian Forest           19            9  Tortoiseshell  Female\n",
      "2             Chartreux            3            3          Brown  Female\n",
      "3               Persian           13            6          Sable  Female\n",
      "4               Ragdoll           10            8          Tabby    Male\n",
      "..                  ...          ...          ...            ...     ...\n",
      "995   British Shorthair           19            5           Gray  Female\n",
      "996   British Shorthair           11            2        Bicolor  Female\n",
      "997            Savannah           12            5        Bicolor  Female\n",
      "998  American Shorthair            8            3  Tortoiseshell  Female\n",
      "999           Chartreux           11            4          Sable  Female\n",
      "\n",
      "[1000 rows x 5 columns]\n"
     ]
    }
   ],
   "source": [
    "df=pd.read_csv('cats_dataset.csv')\n",
    "print(df)\n"
   ]
  },
  {
   "cell_type": "markdown",
   "metadata": {},
   "source": [
    "Read json file"
   ]
  },
  {
   "cell_type": "code",
   "execution_count": 5,
   "metadata": {},
   "outputs": [
    {
     "name": "stdout",
     "output_type": "stream",
     "text": [
      "0            Russian Blue\n",
      "1        Norwegian Forest\n",
      "2               Chartreux\n",
      "3                 Persian\n",
      "4                 Ragdoll\n",
      "              ...        \n",
      "995     British Shorthair\n",
      "996     British Shorthair\n",
      "997              Savannah\n",
      "998    American Shorthair\n",
      "999             Chartreux\n",
      "Name: Breed, Length: 1000, dtype: object\n"
     ]
    }
   ],
   "source": [
    "print(df.loc[:,'Breed'])\n"
   ]
  },
  {
   "cell_type": "code",
   "execution_count": 8,
   "metadata": {},
   "outputs": [
    {
     "name": "stdout",
     "output_type": "stream",
     "text": [
      "              Breed  Age (Years)  Weight (kg)          Color  Gender\n",
      "0      Russian Blue           19            7  Tortoiseshell  Female\n",
      "1  Norwegian Forest           19            9  Tortoiseshell  Female\n",
      "2         Chartreux            3            3          Brown  Female\n",
      "3           Persian           13            6          Sable  Female\n",
      "4           Ragdoll           10            8          Tabby    Male\n",
      "5            Ocicat            9            8           Blue  Female\n",
      "6           Ragdoll            6            5         Calico  Female\n",
      "7        Abyssinian           12            3          Tabby    Male\n",
      "8          Oriental            2            7          White    Male\n",
      "9      Egyptian Mau           12            3          White    Male\n"
     ]
    }
   ],
   "source": [
    "print(df.iloc[0:10])"
   ]
  },
  {
   "cell_type": "code",
   "execution_count": 11,
   "metadata": {},
   "outputs": [
    {
     "name": "stdout",
     "output_type": "stream",
     "text": [
      "Breed          1000\n",
      "Age (Years)    1000\n",
      "Weight (kg)    1000\n",
      "Color          1000\n",
      "Gender         1000\n",
      "dtype: int64\n"
     ]
    }
   ],
   "source": [
    "print(df.notnull().sum())"
   ]
  },
  {
   "cell_type": "code",
   "execution_count": 12,
   "metadata": {},
   "outputs": [
    {
     "name": "stdout",
     "output_type": "stream",
     "text": [
      "                  Breed  Age (Years)  Weight (kg)          Color  Gender\n",
      "0          Russian Blue           19            7  Tortoiseshell  Female\n",
      "9          Egyptian Mau           12            3          White    Male\n",
      "10            Chartreux           16            4          White    Male\n",
      "11   American Shorthair           13            5          Black    Male\n",
      "12               Bengal           16            6          White    Male\n",
      "..                  ...          ...          ...            ...     ...\n",
      "995   British Shorthair           19            5           Gray  Female\n",
      "996   British Shorthair           11            2        Bicolor  Female\n",
      "997            Savannah           12            5        Bicolor  Female\n",
      "998  American Shorthair            8            3  Tortoiseshell  Female\n",
      "999           Chartreux           11            4          Sable  Female\n",
      "\n",
      "[992 rows x 5 columns]\n"
     ]
    }
   ],
   "source": [
    "print(df.drop([1,2,3,4,5,6,7,8,]))"
   ]
  },
  {
   "cell_type": "code",
   "execution_count": 14,
   "metadata": {},
   "outputs": [
    {
     "name": "stdout",
     "output_type": "stream",
     "text": [
      "10.21\n"
     ]
    }
   ],
   "source": [
    "print(df['Age (Years)'].mean())"
   ]
  },
  {
   "cell_type": "code",
   "execution_count": 21,
   "metadata": {},
   "outputs": [
    {
     "ename": "TypeError",
     "evalue": "'RangeIndex' object is not callable",
     "output_type": "error",
     "traceback": [
      "\u001b[1;31m---------------------------------------------------------------------------\u001b[0m",
      "\u001b[1;31mTypeError\u001b[0m                                 Traceback (most recent call last)",
      "Cell \u001b[1;32mIn[21], line 1\u001b[0m\n\u001b[1;32m----> 1\u001b[0m df\u001b[38;5;241m.\u001b[39mindex\u001b[38;5;241m=\u001b[39m\u001b[43mdf\u001b[49m\u001b[38;5;241;43m.\u001b[39;49m\u001b[43mindex\u001b[49m\u001b[43m(\u001b[49m\u001b[43mdf\u001b[49m\u001b[43m[\u001b[49m\u001b[38;5;124;43m\"\u001b[39;49m\u001b[38;5;124;43mBreed\u001b[39;49m\u001b[38;5;124;43m\"\u001b[39;49m\u001b[43m]\u001b[49m\u001b[38;5;241;43m.\u001b[39;49m\u001b[43mstr\u001b[49m\u001b[38;5;241;43m.\u001b[39;49m\u001b[43mreplace\u001b[49m\u001b[43m(\u001b[49m\u001b[38;5;124;43m'\u001b[39;49m\u001b[38;5;124;43mBritish Shorthair\u001b[39;49m\u001b[38;5;124;43m'\u001b[39;49m\u001b[43m,\u001b[49m\u001b[38;5;124;43m'\u001b[39;49m\u001b[38;5;124;43mshoaibbaloch\u001b[39;49m\u001b[38;5;124;43m'\u001b[39;49m\u001b[43m)\u001b[49m\u001b[43m)\u001b[49m\n",
      "\u001b[1;31mTypeError\u001b[0m: 'RangeIndex' object is not callable"
     ]
    }
   ],
   "source": [
    "df.index=df.index(df[\"Breed\"].str.replace('British Shorthair','shoaibbaloch'))"
   ]
  },
  {
   "cell_type": "code",
   "execution_count": 30,
   "metadata": {},
   "outputs": [
    {
     "ename": "TypeError",
     "evalue": "unsupported operand type(s) for -: 'list' and 'int'",
     "output_type": "error",
     "traceback": [
      "\u001b[1;31m---------------------------------------------------------------------------\u001b[0m",
      "\u001b[1;31mTypeError\u001b[0m                                 Traceback (most recent call last)",
      "Cell \u001b[1;32mIn[30], line 5\u001b[0m\n\u001b[0;32m      2\u001b[0m numbers\u001b[38;5;241m=\u001b[39m[\u001b[38;5;241m1\u001b[39m,\u001b[38;5;241m2\u001b[39m,\u001b[38;5;241m3\u001b[39m,\u001b[38;5;241m4\u001b[39m]\n\u001b[0;32m      3\u001b[0m \u001b[38;5;66;03m#for num in numbers:\u001b[39;00m\n\u001b[0;32m      4\u001b[0m     \u001b[38;5;66;03m#result*=num\u001b[39;00m\n\u001b[1;32m----> 5\u001b[0m \u001b[38;5;28;01mfor\u001b[39;00m num \u001b[38;5;129;01min\u001b[39;00m \u001b[38;5;28mreversed\u001b[39m(\u001b[43mnumbers\u001b[49m\u001b[38;5;241;43m-\u001b[39;49m\u001b[38;5;241;43m1\u001b[39;49m):\n\u001b[0;32m      6\u001b[0m  \u001b[38;5;28mprint\u001b[39m(result)\n",
      "\u001b[1;31mTypeError\u001b[0m: unsupported operand type(s) for -: 'list' and 'int'"
     ]
    }
   ],
   "source": [
    "result=1\n",
    "numbers=[1,2,3,4]\n",
    "#for num in numbers:\n",
    "    #result*=num\n",
    "for num in reversed(numbers-1):\n",
    " print(result)"
   ]
  },
  {
   "cell_type": "code",
   "execution_count": 37,
   "metadata": {},
   "outputs": [
    {
     "name": "stdout",
     "output_type": "stream",
     "text": [
      "4\n",
      "[13824, 24]\n"
     ]
    }
   ],
   "source": [
    "result_final=[]\n",
    "nums=[1,2,3,4]\n",
    "s=nums[-1]\n",
    "n=4\n",
    "print(s)\n",
    "for i in nums:\n",
    " result*=i\n",
    "result_final.append(result)\n",
    "for j in range(n-1):\n",
    " r=s*n\n",
    " n+=1\n",
    "result_final.append(r)\n",
    "\n",
    "print(result_final)"
   ]
  },
  {
   "cell_type": "code",
   "execution_count": 33,
   "metadata": {},
   "outputs": [
    {
     "name": "stdout",
     "output_type": "stream",
     "text": [
      "4\n"
     ]
    }
   ],
   "source": [
    "a=[1,2,3,4]\n",
    "s=a[-1]\n",
    "print(s)"
   ]
  }
 ],
 "metadata": {
  "kernelspec": {
   "display_name": "Python 3",
   "language": "python",
   "name": "python3"
  },
  "language_info": {
   "codemirror_mode": {
    "name": "ipython",
    "version": 3
   },
   "file_extension": ".py",
   "mimetype": "text/x-python",
   "name": "python",
   "nbconvert_exporter": "python",
   "pygments_lexer": "ipython3",
   "version": "3.12.1"
  }
 },
 "nbformat": 4,
 "nbformat_minor": 2
}
